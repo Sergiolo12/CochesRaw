{
 "cells": [
  {
   "cell_type": "code",
   "execution_count": 5,
   "metadata": {},
   "outputs": [
    {
     "name": "stdout",
     "output_type": "stream",
     "text": [
      "  Pais      Marca  Modelo   Precio Kilometros Automatico/Manual Fabricacion  \\\n",
      "0    D      mazda    cx-5  32980.0      13809        Automatico      jun-24   \n",
      "1    B       ford  fiesta  18980.0         10            Manual      oct-22   \n",
      "2    D    hyundai     i20  22410.0          5        Automatico      sep-24   \n",
      "3    D  chevrolet  camaro  39999.0      31000        Automatico      ago-20   \n",
      "4    D       ford    kuga  24480.0      32000        Automatico      ene-21   \n",
      "\n",
      "  Combustible         Potencia  \n",
      "0    Gasolina  121 kW (165 CV)  \n",
      "1    Gasolina   74 kW (101 CV)  \n",
      "2    Gasolina   74 kW (101 CV)  \n",
      "3    Gasolina  339 kW (461 CV)  \n",
      "4      Diesel   88 kW (120 CV)  \n"
     ]
    }
   ],
   "source": [
    "import pandas as pd\n",
    "file_path = '202412_CochesRaw_sample.csv'\n",
    "df = pd.read_csv(file_path, sep=';', decimal='.', encoding='utf-8')\n",
    "print(df.head())"
   ]
  },
  {
   "cell_type": "code",
   "execution_count": 6,
   "metadata": {},
   "outputs": [],
   "source": [
    "df.head().to_csv('202412_CochesRaw_sample_head.csv', sep=';', decimal='.', encoding='utf-8', index=False)"
   ]
  },
  {
   "cell_type": "code",
   "execution_count": 7,
   "metadata": {},
   "outputs": [
    {
     "name": "stdout",
     "output_type": "stream",
     "text": [
      "\n",
      "Valores faltantes por columna:\n",
      "Pais                   0\n",
      "Marca                  0\n",
      "Modelo               100\n",
      "Precio               660\n",
      "Kilometros             0\n",
      "Automatico/Manual      0\n",
      "Fabricacion            0\n",
      "Combustible            0\n",
      "Potencia               0\n",
      "dtype: int64\n",
      "(9795, 9)\n"
     ]
    }
   ],
   "source": [
    "df.dropna(subset=['Kilometros'], inplace=True)\n",
    "\n",
    "print(\"\\nValores faltantes por columna:\")\n",
    "\n",
    "print(df.isnull().sum())\n",
    "\n",
    "print(df.shape)"
   ]
  },
  {
   "cell_type": "code",
   "execution_count": 8,
   "metadata": {},
   "outputs": [
    {
     "name": "stdout",
     "output_type": "stream",
     "text": [
      "\\nInformación del dataset:\n",
      "<class 'pandas.core.frame.DataFrame'>\n",
      "Index: 9795 entries, 0 to 10298\n",
      "Data columns (total 9 columns):\n",
      " #   Column             Non-Null Count  Dtype  \n",
      "---  ------             --------------  -----  \n",
      " 0   Pais               9795 non-null   object \n",
      " 1   Marca              9795 non-null   object \n",
      " 2   Modelo             9695 non-null   object \n",
      " 3   Precio             9135 non-null   float64\n",
      " 4   Kilometros         9795 non-null   object \n",
      " 5   Automatico/Manual  9795 non-null   object \n",
      " 6   Fabricacion        9795 non-null   object \n",
      " 7   Combustible        9795 non-null   object \n",
      " 8   Potencia           9795 non-null   object \n",
      "dtypes: float64(1), object(8)\n",
      "memory usage: 765.2+ KB\n",
      "None\n"
     ]
    }
   ],
   "source": [
    "# Información general del dataset\n",
    "print(\"\\\\nInformación del dataset:\")\n",
    "print(df.info())"
   ]
  },
  {
   "cell_type": "code",
   "execution_count": 9,
   "metadata": {},
   "outputs": [
    {
     "name": "stdout",
     "output_type": "stream",
     "text": [
      "\\nDimensiones del dataset (filas, columnas):\n",
      "(9795, 9)\n"
     ]
    }
   ],
   "source": [
    "# Dimensiones del dataset\n",
    "print(\"\\\\nDimensiones del dataset (filas, columnas):\")\n",
    "print(df.shape)"
   ]
  },
  {
   "cell_type": "code",
   "execution_count": 10,
   "metadata": {},
   "outputs": [
    {
     "name": "stdout",
     "output_type": "stream",
     "text": [
      "Tipos de columnas:\n",
      "Pais                  object\n",
      "Marca                 object\n",
      "Modelo                object\n",
      "Precio               float64\n",
      "Kilometros            object\n",
      "Automatico/Manual     object\n",
      "Fabricacion           object\n",
      "Combustible           object\n",
      "Potencia              object\n",
      "dtype: object\n"
     ]
    }
   ],
   "source": [
    "# Mostrar los tipos de cada columna\n",
    "print(\"Tipos de columnas:\")\n",
    "print(df.dtypes)"
   ]
  },
  {
   "cell_type": "code",
   "execution_count": 11,
   "metadata": {},
   "outputs": [
    {
     "name": "stdout",
     "output_type": "stream",
     "text": [
      "Valores faltantes por columna:\n",
      "Pais                   0\n",
      "Marca                  0\n",
      "Modelo               100\n",
      "Precio               660\n",
      "Kilometros             0\n",
      "Automatico/Manual      0\n",
      "Fabricacion            0\n",
      "Combustible            0\n",
      "Potencia               0\n",
      "dtype: int64\n"
     ]
    }
   ],
   "source": [
    "# Resumen de valores faltantes\n",
    "print(\"Valores faltantes por columna:\")\n",
    "print(df.isnull().sum())"
   ]
  },
  {
   "cell_type": "code",
   "execution_count": 12,
   "metadata": {},
   "outputs": [],
   "source": [
    "# Eliminar filas con valores faltantes en la columna \"Kilometros\"\n",
    "df.dropna(subset=['Kilometros'], inplace=True)\n",
    "# Rellenar valores faltantes en la columna \"Precio\" con la media\n",
    "df['Precio'] = df['Precio'].fillna(df['Precio'].mean())\n",
    "# Rellenar valores faltantes en la columna \"Modelo\" con la moda\n",
    "df['Modelo'] = df['Modelo'].fillna(df['Modelo'].mode()[0])"
   ]
  },
  {
   "cell_type": "code",
   "execution_count": 13,
   "metadata": {},
   "outputs": [
    {
     "name": "stdout",
     "output_type": "stream",
     "text": [
      "Número de filas duplicadas:\n",
      "285\n"
     ]
    }
   ],
   "source": [
    "# Identificar filas duplicadas\n",
    "print(\"Número de filas duplicadas:\")\n",
    "print(df.duplicated().sum())"
   ]
  },
  {
   "cell_type": "code",
   "execution_count": 14,
   "metadata": {},
   "outputs": [],
   "source": [
    "# Eliminar filas duplicadas\n",
    "df = df.drop_duplicates()"
   ]
  },
  {
   "cell_type": "code",
   "execution_count": 15,
   "metadata": {},
   "outputs": [],
   "source": [
    "# Convertir la columna 'Kilometros' de string a float\n",
    "df['Kilometros'] = df['Kilometros'].str.replace('.', '', regex=False)  # Eliminar separadores de miles\n",
    "df['Kilometros'] = pd.to_numeric(df['Kilometros'], errors='coerce')"
   ]
  },
  {
   "cell_type": "code",
   "execution_count": 16,
   "metadata": {},
   "outputs": [
    {
     "name": "stdout",
     "output_type": "stream",
     "text": [
      "Index(['Pais', 'Marca', 'Modelo', 'Precio', 'Kilometros', 'Automatico/Manual',\n",
      "       'Fabricacion', 'Combustible', 'Potencia'],\n",
      "      dtype='object')\n"
     ]
    }
   ],
   "source": [
    "print(df.columns)"
   ]
  },
  {
   "cell_type": "code",
   "execution_count": 17,
   "metadata": {},
   "outputs": [],
   "source": [
    "# Convertir la columna 'Fabricacion' a formato de fecha\n",
    "# El formato original es 'mmm-yy' codificado en español (por ejemplo, 'abr-19')\n",
    "df['Fabricacion'] = pd.to_datetime(df['Fabricacion'], format='%b-%y', errors='coerce')"
   ]
  },
  {
   "cell_type": "code",
   "execution_count": 18,
   "metadata": {},
   "outputs": [
    {
     "name": "stdout",
     "output_type": "stream",
     "text": [
      "          Potencia  kW  CV\n",
      "0  121 kW (165 CV) NaN NaN\n",
      "1   74 kW (101 CV) NaN NaN\n",
      "2   74 kW (101 CV) NaN NaN\n",
      "3  339 kW (461 CV) NaN NaN\n",
      "4   88 kW (120 CV) NaN NaN\n"
     ]
    }
   ],
   "source": [
    "# Extraer valores de 'Potencia' para crear columnas 'kW' y 'CV'\n",
    "df['kW'] = df['Potencia'].str.extract(r'(\\\\d+) kW')[0].astype(float)\n",
    "df['CV'] = df['Potencia'].str.extract(r'\\\\((\\\\d+) CV\\\\)')[0].astype(float)\n",
    "print(df[['Potencia', 'kW', 'CV']].head())\n"
   ]
  },
  {
   "cell_type": "code",
   "execution_count": 19,
   "metadata": {},
   "outputs": [
    {
     "name": "stdout",
     "output_type": "stream",
     "text": [
      "\\nEstadísticas descriptivas del dataset:\n",
      "             Precio    Kilometros                    Fabricacion   kW   CV\n",
      "count  9.510000e+03  9.310000e+03                           6150  0.0  0.0\n",
      "mean   3.826351e+04  9.780758e+04  2015-11-20 15:51:48.292683008  NaN  NaN\n",
      "min    3.000000e+02  0.000000e+00            1969-02-01 00:00:00  NaN  NaN\n",
      "25%    9.400000e+03  2.680625e+04            2011-10-01 00:00:00  NaN  NaN\n",
      "50%    1.816950e+04  8.179600e+04            2017-11-01 00:00:00  NaN  NaN\n",
      "75%    3.350000e+04  1.484988e+05            2021-09-01 00:00:00  NaN  NaN\n",
      "max    1.000000e+08  4.228000e+06            2068-07-01 00:00:00  NaN  NaN\n",
      "std    1.026251e+06  9.529870e+04                            NaN  NaN  NaN\n"
     ]
    }
   ],
   "source": [
    "# Resumen de estadísticas descriptivas\n",
    "print(\"\\\\nEstadísticas descriptivas del dataset:\")\n",
    "print(df.describe())"
   ]
  },
  {
   "cell_type": "code",
   "execution_count": 20,
   "metadata": {},
   "outputs": [
    {
     "name": "stdout",
     "output_type": "stream",
     "text": [
      "Valores atípicos eliminados de la columna 'Precio'.\n"
     ]
    }
   ],
   "source": [
    "# Calcular los límites para eliminar valores atípicos en 'Precio'\n",
    "q1 = df['Precio'].quantile(0.25)  # Primer cuartil\n",
    "q3 = df['Precio'].quantile(0.75)  # Tercer cuartil\n",
    "iqr = q3 - q1  # Rango intercuartil\n",
    "lower_bound = q1 - 1.5 * iqr  # Límite inferior\n",
    "upper_bound = q3 + 1.5 * iqr  # Límite superior\n",
    "\n",
    "# Filtrar el DataFrame para mantener solo los valores dentro de los límites\n",
    "filtered_df = df[(df['Precio'] >= lower_bound) & (df['Precio'] <= upper_bound)]\n",
    "\n",
    "# Actualizar el DataFrame original\n",
    "df = filtered_df\n",
    "print(\"Valores atípicos eliminados de la columna 'Precio'.\")"
   ]
  },
  {
   "cell_type": "code",
   "execution_count": 21,
   "metadata": {},
   "outputs": [],
   "source": [
    "import matplotlib.pyplot as plt"
   ]
  },
  {
   "cell_type": "code",
   "execution_count": 23,
   "metadata": {},
   "outputs": [
    {
     "data": {
      "image/png": "[encoded data removed]",
      "text/plain": [
       "<Figure size 640x480 with 1 Axes>"
      ]
     },
     "metadata": {},
     "output_type": "display_data"
    }
   ],
   "source": [
    "# Visualización de valores atípicos con boxplot\n",
    "plt.boxplot(df['Precio'].dropna())\n",
    "plt.title('Boxplot de Precio')\n",
    "plt.show()"
   ]
  },
  {
   "cell_type": "code",
   "execution_count": 25,
   "metadata": {},
   "outputs": [],
   "source": [
    "# Calcular los límites para eliminar valores atípicos en 'Precio'\n",
    "q1 = df['Precio'].quantile(0.25)  # Primer cuartil\n",
    "q3 = df['Precio'].quantile(0.75)  # Tercer cuartil\n",
    "iqr = q3 - q1  # Rango intercuartil\n",
    "lower_bound = q1 - 1.5 * iqr  # Límite inferior\n",
    "upper_bound = q3 + 1.5 * iqr  # Límite superior"
   ]
  },
  {
   "cell_type": "code",
   "execution_count": 27,
   "metadata": {},
   "outputs": [],
   "source": [
    "# Filtrar el DataFrame para mantener solo los valores dentro de los límites\n",
    "filtered_df = df[(df['Precio'] >= lower_bound) & (df['Precio'] <= upper_bound)]"
   ]
  },
  {
   "cell_type": "code",
   "execution_count": 29,
   "metadata": {},
   "outputs": [
    {
     "name": "stdout",
     "output_type": "stream",
     "text": [
      "Valores atípicos eliminados de la columna 'Precio'.\n"
     ]
    }
   ],
   "source": [
    "# Actualizar el DataFrame original\n",
    "df = filtered_df\n",
    "print(\"Valores atípicos eliminados de la columna 'Precio'.\")"
   ]
  },
  {
   "cell_type": "code",
   "execution_count": 35,
   "metadata": {},
   "outputs": [
    {
     "data": {
      "image/png": "[encoded data removed]",
      "text/plain": [
       "<Figure size 640x480 with 1 Axes>"
      ]
     },
     "metadata": {},
     "output_type": "display_data"
    }
   ],
   "source": [
    "# Histograma para explorar la distribución\n",
    "plt.hist(df['Kilometros'].dropna(), bins=20)\n",
    "plt.title('Histograma de Kilometros')\n",
    "plt.xlabel('Kilometros')\n",
    "plt.ylabel('Frecuencia')\n",
    "plt.show()"
   ]
  },
  {
   "cell_type": "code",
   "execution_count": 37,
   "metadata": {},
   "outputs": [
    {
     "data": {
      "image/png": "[encoded data removed]",
      "text/plain": [
       "<Figure size 640x480 with 1 Axes>"
      ]
     },
     "metadata": {},
     "output_type": "display_data"
    }
   ],
   "source": [
    "# Relación entre Kilometros y Precio\n",
    "plt.scatter(df['Kilometros'], df['Precio'])\n",
    "plt.title('Relación entre Kilometros y Precio')\n",
    "plt.xlabel('Kilometros')\n",
    "plt.ylabel('Precio')\n",
    "plt.show()"
   ]
  },
  {
   "cell_type": "code",
   "execution_count": null,
   "metadata": {},
   "outputs": [],
   "source": []
  }
 ],
 "metadata": {
  "kernelspec": {
   "display_name": "base",
   "language": "python",
   "name": "python3"
  },
  "language_info": {
   "codemirror_mode": {
    "name": "ipython",
    "version": 3
   },
   "file_extension": ".py",
   "mimetype": "text/x-python",
   "name": "python",
   "nbconvert_exporter": "python",
   "pygments_lexer": "ipython3",
   "version": "3.12.7"
  }
 },
 "nbformat": 4,
 "nbformat_minor": 2
}
